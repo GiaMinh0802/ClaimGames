{
 "cells": [
  {
   "cell_type": "code",
   "execution_count": 1,
   "metadata": {},
   "outputs": [],
   "source": [
    "import requests"
   ]
  },
  {
   "cell_type": "code",
   "execution_count": 6,
   "metadata": {},
   "outputs": [],
   "source": [
    "post_data = {\n",
    "    'uid': '1090821',\n",
    "    'sign': '88B8CDF7A5CB6C35082D4C3384C2AF4850141FB6829681640C693A2ADC0A81CD',\n",
    "    'bankid': '102',\n",
    "    'beneficiaryname': 'VO GIA MINH',\n",
    "    'accountno': '0428046376958',\n",
    "    'ifsccode': '',\n",
    "    'email': 'uei2@gmail.com',\n",
    "    'mobileno': '782811293',\n",
    "    'bankprovincecode': 'Dak Lak',\n",
    "    'bankcitycode': 'BMT',\n",
    "    'bankcode': '',\n",
    "    'bankbranchaddress': 'BMT',\n",
    "    'language': 'vi',\n",
    "}"
   ]
  },
  {
   "cell_type": "code",
   "execution_count": 7,
   "metadata": {},
   "outputs": [],
   "source": [
    "response = requests.post('https://92lotteryapi.com/api/webapi/SetWithdrawalBankCard', data=post_data).json()"
   ]
  },
  {
   "cell_type": "code",
   "execution_count": 8,
   "metadata": {},
   "outputs": [
    {
     "data": {
      "text/plain": [
       "{'code': 0,\n",
       " 'success': False,\n",
       " 'msg': 'Bạn đã ràng buộc thẻ ngân hàng, vui lòng liên hệ với bộ phận chăm sóc khách hàng để sửa đổi',\n",
       " 'data': {}}"
      ]
     },
     "execution_count": 8,
     "metadata": {},
     "output_type": "execute_result"
    }
   ],
   "source": [
    "response"
   ]
  }
 ],
 "metadata": {
  "kernelspec": {
   "display_name": "Python 3",
   "language": "python",
   "name": "python3"
  },
  "language_info": {
   "codemirror_mode": {
    "name": "ipython",
    "version": 3
   },
   "file_extension": ".py",
   "mimetype": "text/x-python",
   "name": "python",
   "nbconvert_exporter": "python",
   "pygments_lexer": "ipython3",
   "version": "3.11.5"
  }
 },
 "nbformat": 4,
 "nbformat_minor": 2
}
